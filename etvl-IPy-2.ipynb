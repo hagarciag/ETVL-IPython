{
 "cells": [
  {
   "cell_type": "markdown",
   "metadata": {},
   "source": [
    "**Recuerde no agregar o quitar celdas en este notebook, ni modificar su tipo. Si lo hace, el sistema automaticamente lo calificará con cero punto cero (0.0)**"
   ]
  },
  {
   "cell_type": "markdown",
   "metadata": {},
   "source": [
    "# Descripción"
   ]
  },
  {
   "cell_type": "markdown",
   "metadata": {},
   "source": [
    "Esta tarea tiene como fin ayudarlo a profundizar sus conocimientos en programación con el lenguaje Python usando Pandas. En la siguiente celda importaré algunas librerias y leeré algunos archivos por usted."
   ]
  },
  {
   "cell_type": "code",
   "execution_count": 2,
   "metadata": {
    "collapsed": false
   },
   "outputs": [],
   "source": [
    "###__test__\n",
    "import pandas\n",
    "customer    = pandas.read_table('customer',    sep = ',', decimal = '.')\n",
    "employee    = pandas.read_table('employee',    sep = ',', decimal = '.')\n",
    "family      = pandas.read_table('family',      sep = ',', decimal = '.')\n",
    "order2000   = pandas.read_table('order2000',   sep = ',', decimal = '.')\n",
    "order2001   = pandas.read_table('order2001',   sep = ',', decimal = '.')\n",
    "order2002   = pandas.read_table('order2002',   sep = ',', decimal = '.')\n",
    "order2003   = pandas.read_table('order2003',   sep = ',', decimal = '.')\n",
    "order2004   = pandas.read_table('order2004',   sep = ',', decimal = '.')\n",
    "order2005   = pandas.read_table('order2005',   sep = ',', decimal = '.')\n",
    "order2006   = pandas.read_table('order2006',   sep = ',', decimal = '.')\n",
    "order2007   = pandas.read_table('order2007',   sep = ',', decimal = '.')\n",
    "order2008   = pandas.read_table('order2008',   sep = ',', decimal = '.')\n",
    "order2009   = pandas.read_table('order2009',   sep = ',', decimal = '.')\n",
    "order2010   = pandas.read_table('order2010',   sep = ',', decimal = '.')\n",
    "order2011   = pandas.read_table('order2011',   sep = ',', decimal = '.')\n",
    "order2012   = pandas.read_table('order2012',   sep = ',', decimal = '.')\n",
    "order2013   = pandas.read_table('order2013',   sep = ',', decimal = '.')\n",
    "order2014   = pandas.read_table('order2014',   sep = ',', decimal = '.')\n",
    "order2015   = pandas.read_table('order2015',   sep = ',', decimal = '.')\n",
    "order2016   = pandas.read_table('order2016',   sep = ',', decimal = '.')\n",
    "orderdetail = pandas.read_table('orderdetail', sep = ',', decimal = '.')\n",
    "product     = pandas.read_table('product',     sep = ',', decimal = '.')\n",
    "supplier    = pandas.read_table('supplier',    sep = ',', decimal = '.')"
   ]
  },
  {
   "cell_type": "markdown",
   "metadata": {},
   "source": [
    "# Problema 1"
   ]
  },
  {
   "cell_type": "markdown",
   "metadata": {},
   "source": [
    "Imprima el valor del campo `ssn` (uno por línea) para los registros 2, 6 y 8 del archivo `employee`."
   ]
  },
  {
   "cell_type": "code",
   "execution_count": 6,
   "metadata": {
    "collapsed": false
   },
   "outputs": [
    {
     "name": "stdout",
     "output_type": "stream",
     "text": [
      "496-99-2998\n",
      "323-35-2171\n",
      "496-24-5751\n"
     ]
    }
   ],
   "source": [
    "print(employee.iat[1,4])\n",
    "print(employee.iat[5,4])\n",
    "print(employee.iat[7,4])"
   ]
  },
  {
   "cell_type": "markdown",
   "metadata": {},
   "source": [
    "# Problema 2"
   ]
  },
  {
   "cell_type": "markdown",
   "metadata": {},
   "source": [
    "Imprima el total de registros (uno por línea) para los archivos `employee`, `product` y `orderdetail`."
   ]
  },
  {
   "cell_type": "code",
   "execution_count": 8,
   "metadata": {
    "collapsed": false
   },
   "outputs": [
    {
     "name": "stdout",
     "output_type": "stream",
     "text": [
      "50\n",
      "146\n",
      "25946\n"
     ]
    }
   ],
   "source": [
    "print(len(employee.index))\n",
    "print(len(product.index))\n",
    "print(len(orderdetail.index))"
   ]
  },
  {
   "cell_type": "markdown",
   "metadata": {},
   "source": [
    "# Problema 3"
   ]
  },
  {
   "cell_type": "markdown",
   "metadata": {},
   "source": [
    "Escriba una función `f` que reciba el nombre de un departamento y cuente cuantos registros hay para dicho departamento en el archivo `employee`. "
   ]
  },
  {
   "cell_type": "code",
   "execution_count": 11,
   "metadata": {
    "collapsed": true
   },
   "outputs": [],
   "source": [
    "def f(departamento):\n",
    "    return len(employee[(employee['department']==departamento)].index)\n",
    "    "
   ]
  },
  {
   "cell_type": "code",
   "execution_count": 12,
   "metadata": {
    "collapsed": false
   },
   "outputs": [
    {
     "name": "stdout",
     "output_type": "stream",
     "text": [
      "4\n",
      "3\n",
      "3\n",
      "1\n",
      "21\n"
     ]
    }
   ],
   "source": [
    "###__test__\n",
    "print(f(\"Accounting\"))\n",
    "print(f(\"Advertising\"))\n",
    "print(f(\"Asset Management\"))\n",
    "print(f(\"Media Relations\"))\n",
    "print(f(\"Sales and Marketing\"))"
   ]
  },
  {
   "cell_type": "markdown",
   "metadata": {},
   "source": [
    "# Problema 4"
   ]
  },
  {
   "cell_type": "markdown",
   "metadata": {},
   "source": [
    "Imprima una tabla con la cantidad de empleados nacidos por año, ordenada por año y un año por línea. Use un espacio en blanco para separar el año y la cantidad de personas; por ejemplo, '1969 2'. "
   ]
  },
  {
   "cell_type": "code",
   "execution_count": 39,
   "metadata": {
    "collapsed": false
   },
   "outputs": [
    {
     "name": "stdout",
     "output_type": "stream",
     "text": [
      "1969 2\n",
      "1970 2\n",
      "1971 5\n",
      "1972 1\n",
      "1973 1\n",
      "1974 1\n",
      "1975 2\n",
      "1976 4\n",
      "1977 3\n",
      "1978 1\n",
      "1979 5\n",
      "1980 4\n",
      "1981 2\n",
      "1982 2\n",
      "1983 1\n",
      "1984 2\n",
      "1985 3\n",
      "1986 3\n",
      "1987 1\n",
      "1988 3\n",
      "1990 2\n"
     ]
    }
   ],
   "source": [
    "#\n",
    "x = []\n",
    "for i in range(len(employee)):\n",
    "    year=employee.loc[i]['birthdate'][4:8]    \n",
    "    x.append(year)\n",
    "employee['annio']=x\n",
    "\n",
    "employee_group_year=employee.groupby(['annio']).count()\n",
    "employee_group_year=employee_group_year.reset_index()\n",
    "\n",
    "for index, row in employee_group_year.iterrows() :\n",
    "    print(str(row[0])+' '+str(row[1]))\n",
    "    \n",
    "#print(employee_group_year.loc[:,'annio']+' '+employee_group_year[employee_group_year.columns[2:4]])\n",
    "#employee[['annio','Valores']]  df[df.columns[2:4]]\n",
    "#"
   ]
  },
  {
   "cell_type": "markdown",
   "metadata": {},
   "source": [
    "# Problema 5"
   ]
  },
  {
   "cell_type": "markdown",
   "metadata": {},
   "source": [
    "Imprima una lista con las ciudades del archivo `employee` ordenadas alfabéticamente y sin repetir ciudad. Imprima una ciudad por renglón. "
   ]
  },
  {
   "cell_type": "code",
   "execution_count": 91,
   "metadata": {
    "collapsed": false
   },
   "outputs": [
    {
     "name": "stdout",
     "output_type": "stream",
     "text": [
      "BELLEFONTE\n",
      "BLAINE\n",
      "BURNS FLAT\n",
      "CEDAR HILL\n",
      "CHANCELLOR\n",
      "CHARLOTTESVILLE\n",
      "CHESHIRE\n",
      "COPELAND\n",
      "FT MITCHELL\n",
      "GARRISON\n",
      "GRANDVIEW\n",
      "MANISTIQUE\n",
      "MONTCLAIR\n",
      "PAWCATUCK\n",
      "RIDGEFIELD\n",
      "RUIDOSO\n",
      "SANTA BARBARA\n",
      "SARASOTA\n",
      "TALLASSEE\n",
      "TAWAS CITY\n",
      "TEHACHAPI\n",
      "TERRA\n",
      "WINTER HAVEN\n"
     ]
    }
   ],
   "source": [
    "employee_cities=employee.loc[:]['city']\n",
    "employee_cities=employee_cities.reset_index()\n",
    "\n",
    "employee_cities_unique=employee_cities.drop_duplicates(['city'], keep='last')\n",
    "\n",
    "for index, row in employee_cities_unique.sort_values(by='city').iterrows() :\n",
    "    print(row['city'])"
   ]
  },
  {
   "cell_type": "markdown",
   "metadata": {},
   "source": [
    "# Problema 6"
   ]
  },
  {
   "cell_type": "markdown",
   "metadata": {},
   "source": [
    "Imprima una lista con las ciudades del archivo `employee` ordenadas alfabéticamente indicando cuántas veces aparece cada ciudad en el archivo. Imprima una ciudad por renglón. Separe la ciudad y la cantidad por un espacio en blanco; por ejemplo: 'BELLEFONTE 3'."
   ]
  },
  {
   "cell_type": "code",
   "execution_count": 95,
   "metadata": {
    "collapsed": false
   },
   "outputs": [
    {
     "name": "stdout",
     "output_type": "stream",
     "text": [
      "BELLEFONTE 3\n",
      "BLAINE 1\n",
      "BURNS FLAT 2\n",
      "CEDAR HILL 2\n",
      "CHANCELLOR 2\n",
      "CHARLOTTESVILLE 1\n",
      "CHESHIRE 1\n",
      "COPELAND 5\n",
      "FT MITCHELL 1\n",
      "GARRISON 2\n",
      "GRANDVIEW 2\n",
      "MANISTIQUE 2\n",
      "MONTCLAIR 3\n",
      "PAWCATUCK 4\n",
      "RIDGEFIELD 1\n",
      "RUIDOSO 1\n",
      "SANTA BARBARA 2\n",
      "SARASOTA 5\n",
      "TALLASSEE 1\n",
      "TAWAS CITY 2\n",
      "TEHACHAPI 1\n",
      "TERRA 3\n",
      "WINTER HAVEN 3\n"
     ]
    }
   ],
   "source": [
    "employee_group_year=employee.groupby(['city']).count()\n",
    "employee_group_year=employee_group_year.reset_index()\n",
    "#print(employee_group_year)\n",
    "for index, row in employee_group_year.sort_values(by='city').iterrows() :\n",
    "    print(str(row[0])+' '+str(row[1]))"
   ]
  },
  {
   "cell_type": "markdown",
   "metadata": {},
   "source": [
    "# Problema 7"
   ]
  },
  {
   "cell_type": "markdown",
   "metadata": {},
   "source": [
    "Imprima, por cada ciudad diferente del archivo `employee`, cuántos registros quedan si se eliminan todos los registros que contienen dicha ciudad. Imprima la lista ordenada alfabéticamente. Separe la ciudad y la cantidad usando un espacio en blanco; por ejemplo: `'BELLEFONTE 47'`."
   ]
  },
  {
   "cell_type": "code",
   "execution_count": 96,
   "metadata": {
    "collapsed": false
   },
   "outputs": [
    {
     "name": "stdout",
     "output_type": "stream",
     "text": [
      "BELLEFONTE 47\n",
      "BLAINE 49\n",
      "BURNS FLAT 48\n",
      "CEDAR HILL 48\n",
      "CHANCELLOR 48\n",
      "CHARLOTTESVILLE 49\n",
      "CHESHIRE 49\n",
      "COPELAND 45\n",
      "FT MITCHELL 49\n",
      "GARRISON 48\n",
      "GRANDVIEW 48\n",
      "MANISTIQUE 48\n",
      "MONTCLAIR 47\n",
      "PAWCATUCK 46\n",
      "RIDGEFIELD 49\n",
      "RUIDOSO 49\n",
      "SANTA BARBARA 48\n",
      "SARASOTA 45\n",
      "TALLASSEE 49\n",
      "TAWAS CITY 48\n",
      "TEHACHAPI 49\n",
      "TERRA 47\n",
      "WINTER HAVEN 47\n"
     ]
    }
   ],
   "source": [
    "total_employee=len(employee.index)\n",
    "employee_group_year=employee.groupby(['city']).count()\n",
    "employee_group_year=employee_group_year.reset_index()\n",
    "#print(employee_group_year)\n",
    "for index, row in employee_group_year.sort_values(by='city').iterrows() :\n",
    "    print(str(row[0])+' '+str(total_employee-row[1]))"
   ]
  },
  {
   "cell_type": "markdown",
   "metadata": {},
   "source": [
    "# Problema 8"
   ]
  },
  {
   "cell_type": "markdown",
   "metadata": {},
   "source": [
    "Escriba una función que reciba el nombre completo de un hijo (campo `fullname` del archivo `family`), y devuelva el primer nombre (`fullname`) del padre. "
   ]
  },
  {
   "cell_type": "code",
   "execution_count": 290,
   "metadata": {
    "collapsed": false
   },
   "outputs": [],
   "source": [
    "def f(fullname):   \n",
    "    family_line=family[family['fullname']==fullname]\n",
    "    family_line=family_line.reset_index()\n",
    "    employee_id=family_line.get_value(index=0, col='parent.id')\n",
    "\n",
    "    employee_line=employee[employee['employee.id']==employee_id]\n",
    "    employee_line=employee_line.reset_index()\n",
    "    employee_fullname=employee_line.get_value(index=0, col='fullname').rsplit(' ')[0]\n",
    "    \n",
    "    return employee_fullname"
   ]
  },
  {
   "cell_type": "code",
   "execution_count": 291,
   "metadata": {
    "collapsed": false
   },
   "outputs": [
    {
     "name": "stdout",
     "output_type": "stream",
     "text": [
      "Jermaine\n",
      "Gerald\n",
      "Matt\n",
      "Bailey\n"
     ]
    }
   ],
   "source": [
    "###__test__\n",
    "print(f('Jean Bailey'))\n",
    "print(f('Berneice Neil'))\n",
    "print(f('Mammie Montano'))\n",
    "print(f('Nettie Beasley'))"
   ]
  },
  {
   "cell_type": "markdown",
   "metadata": {},
   "source": [
    "# Problema 9"
   ]
  },
  {
   "cell_type": "markdown",
   "metadata": {},
   "source": [
    "Escriba una función que reciba el número de orden (`order.id`) y devuelva el nombre completo (`fullname`) del empleado que la atendio."
   ]
  },
  {
   "cell_type": "code",
   "execution_count": 172,
   "metadata": {
    "collapsed": true
   },
   "outputs": [],
   "source": [
    "def f(orderid):   \n",
    "    orders1=[]\n",
    "    orders1.append(order2000) \n",
    "    orders1.append(order2001) \n",
    "    orders1.append(order2002) \n",
    "    orders1.append(order2003) \n",
    "    orders1.append(order2004) \n",
    "    orders1.append(order2005) \n",
    "    orders1.append(order2006) \n",
    "    orders1.append(order2007) \n",
    "    orders1.append(order2008) \n",
    "    orders1.append(order2009) \n",
    "    orders1.append(order2010) \n",
    "    orders1.append(order2011) \n",
    "    orders1.append(order2012) \n",
    "    orders1.append(order2013) \n",
    "    orders1.append(order2014) \n",
    "    orders1.append(order2015) \n",
    "    orders1.append(order2016)    \n",
    "    orders=pandas.concat(orders1)\n",
    "    \n",
    "    order_line=orders[orders.ix[:, 0]==orderid]\n",
    "    order_line=order_line.reset_index()\n",
    "    employee_id=order_line.get_value(index=0, col='employee.id')\n",
    "    \n",
    "    employee_line=employee[employee['employee.id']==employee_id]\n",
    "    employee_line=employee_line.reset_index()\n",
    "    employee_fullname=employee_line.get_value(index=0, col='fullname')\n",
    "    \n",
    "    return employee_fullname\n"
   ]
  },
  {
   "cell_type": "code",
   "execution_count": 173,
   "metadata": {
    "collapsed": false
   },
   "outputs": [
    {
     "name": "stdout",
     "output_type": "stream",
     "text": [
      "Christy Petry\n",
      "Damaris Parry\n",
      "Bailey Beasley\n"
     ]
    }
   ],
   "source": [
    "###__test__\n",
    "print(f(309))\n",
    "print(f(653))\n",
    "print(f(996))"
   ]
  },
  {
   "cell_type": "markdown",
   "metadata": {},
   "source": [
    "### Problema 10"
   ]
  },
  {
   "cell_type": "markdown",
   "metadata": {},
   "source": [
    "Escriba una función que reciba el número de orden (`order.id`) y devuelva el nombre completo (`fullname`) del cliente que la solicitó."
   ]
  },
  {
   "cell_type": "code",
   "execution_count": 174,
   "metadata": {
    "collapsed": true
   },
   "outputs": [],
   "source": [
    "def f(orderid):   \n",
    "    orders1=[]\n",
    "    orders1.append(order2000) \n",
    "    orders1.append(order2001) \n",
    "    orders1.append(order2002) \n",
    "    orders1.append(order2003) \n",
    "    orders1.append(order2004) \n",
    "    orders1.append(order2005) \n",
    "    orders1.append(order2006) \n",
    "    orders1.append(order2007) \n",
    "    orders1.append(order2008) \n",
    "    orders1.append(order2009) \n",
    "    orders1.append(order2010) \n",
    "    orders1.append(order2011) \n",
    "    orders1.append(order2012) \n",
    "    orders1.append(order2013) \n",
    "    orders1.append(order2014) \n",
    "    orders1.append(order2015) \n",
    "    orders1.append(order2016)    \n",
    "    orders=pandas.concat(orders1)\n",
    "    \n",
    "    order_line=orders[orders.ix[:, 0]==orderid]\n",
    "    order_line=order_line.reset_index()\n",
    "    customer_id=order_line.get_value(index=0, col='customer.id')\n",
    "    \n",
    "    customer_line=customer[customer['customer.id']==customer_id]\n",
    "    customer_line=customer_line.reset_index()\n",
    "    customer_fullname=customer_line.get_value(index=0, col='fullname')\n",
    "    \n",
    "    return customer_fullname"
   ]
  },
  {
   "cell_type": "code",
   "execution_count": 175,
   "metadata": {
    "collapsed": false
   },
   "outputs": [
    {
     "name": "stdout",
     "output_type": "stream",
     "text": [
      "Carmen Zimmerman\n",
      "Theodore Pernell\n",
      "Marilynn Laws\n"
     ]
    }
   ],
   "source": [
    "###__test__\n",
    "print(f(309))\n",
    "print(f(653))\n",
    "print(f(996))"
   ]
  },
  {
   "cell_type": "markdown",
   "metadata": {},
   "source": [
    "# Problema 11"
   ]
  },
  {
   "cell_type": "markdown",
   "metadata": {},
   "source": [
    "Escriba una función que reciba el nombre de un empleado (`fullname`) y retorne la cantidad de órdenes atendidas por él."
   ]
  },
  {
   "cell_type": "code",
   "execution_count": 186,
   "metadata": {
    "collapsed": true
   },
   "outputs": [],
   "source": [
    "def f(fullname):   \n",
    "    orders1=[]\n",
    "    orders1.append(order2000) \n",
    "    orders1.append(order2001) \n",
    "    orders1.append(order2002) \n",
    "    orders1.append(order2003) \n",
    "    orders1.append(order2004) \n",
    "    orders1.append(order2005) \n",
    "    orders1.append(order2006) \n",
    "    orders1.append(order2007) \n",
    "    orders1.append(order2008) \n",
    "    orders1.append(order2009) \n",
    "    orders1.append(order2010) \n",
    "    orders1.append(order2011) \n",
    "    orders1.append(order2012) \n",
    "    orders1.append(order2013) \n",
    "    orders1.append(order2014) \n",
    "    orders1.append(order2015) \n",
    "    orders1.append(order2016)    \n",
    "    orders=pandas.concat(orders1)\n",
    "\n",
    "    employee_line=employee[employee['fullname']==fullname]\n",
    "    employee_line=employee_line.reset_index()\n",
    "    employee_id=employee_line.get_value(index=0, col='employee.id')\n",
    "\n",
    "    order_lines=orders[orders.ix[:, 3]==employee_id]\n",
    "    order_lines=order_lines.reset_index()\n",
    "    total_orders=len(order_lines.index)\n",
    "        \n",
    "    return total_orders"
   ]
  },
  {
   "cell_type": "code",
   "execution_count": 187,
   "metadata": {
    "collapsed": false
   },
   "outputs": [
    {
     "name": "stdout",
     "output_type": "stream",
     "text": [
      "238\n",
      "225\n",
      "270\n"
     ]
    }
   ],
   "source": [
    "###__test__\n",
    "print(f('Christy Petry'))\n",
    "print(f('Gisela Strong'))\n",
    "print(f('Ellis Ervin'))"
   ]
  },
  {
   "cell_type": "markdown",
   "metadata": {},
   "source": [
    "# Problema 12"
   ]
  },
  {
   "cell_type": "markdown",
   "metadata": {},
   "source": [
    "Escriba una función que reciba el nombre de un empleado y retorne el valor mínino del campo `order.id` del total de ordenes que atendió. "
   ]
  },
  {
   "cell_type": "code",
   "execution_count": 292,
   "metadata": {
    "collapsed": true
   },
   "outputs": [],
   "source": [
    "def f(fullname):   \n",
    "    orders1=[]\n",
    "    orders1.append(order2000) \n",
    "    orders1.append(order2001) \n",
    "    orders1.append(order2002) \n",
    "    orders1.append(order2003) \n",
    "    orders1.append(order2004) \n",
    "    orders1.append(order2005) \n",
    "    orders1.append(order2006) \n",
    "    orders1.append(order2007) \n",
    "    orders1.append(order2008) \n",
    "    orders1.append(order2009) \n",
    "    orders1.append(order2010) \n",
    "    orders1.append(order2011) \n",
    "    orders1.append(order2012) \n",
    "    orders1.append(order2013) \n",
    "    orders1.append(order2014) \n",
    "    orders1.append(order2015) \n",
    "    orders1.append(order2016)    \n",
    "    orders=pandas.concat(orders1)\n",
    "\n",
    "    employee_line=employee[employee['fullname']==fullname]\n",
    "    employee_line=employee_line.reset_index()\n",
    "    employee_id=employee_line.get_value(index=0, col='employee.id')\n",
    "\n",
    "    order_lines=orders[orders.ix[:, 3]==employee_id]\n",
    "    order_lines=order_lines.reset_index()\n",
    "    total_orders=order_lines['order.id'].min()     \n",
    "    return total_orders"
   ]
  },
  {
   "cell_type": "code",
   "execution_count": 293,
   "metadata": {
    "collapsed": false
   },
   "outputs": [
    {
     "name": "stdout",
     "output_type": "stream",
     "text": [
      "14\n",
      "27\n",
      "20\n"
     ]
    }
   ],
   "source": [
    "###__test__\n",
    "print(f('Christy Petry'))\n",
    "print(f('Gisela Strong'))\n",
    "print(f('Ellis Ervin'))"
   ]
  },
  {
   "cell_type": "markdown",
   "metadata": {},
   "source": [
    "# Problema 13"
   ]
  },
  {
   "cell_type": "markdown",
   "metadata": {},
   "source": [
    "Escriba una función que reciba el `order.id` de una orden y retorne el cálculo del valor total de la orden."
   ]
  },
  {
   "cell_type": "code",
   "execution_count": 294,
   "metadata": {
    "collapsed": false
   },
   "outputs": [],
   "source": [
    "def f(orderid):\n",
    "    total_order=0\n",
    "    orderdetail_lines=orderdetail[orderdetail['order.id']==orderid]\n",
    "    orderdetail_lines=orderdetail_lines.reset_index()\n",
    "    #print(total_order)\n",
    "    for i in range(len(orderdetail_lines)):\n",
    "        total_order+=orderdetail_lines.loc[i]['quantity'] * orderdetail_lines.get_value(index=i, col='price')\n",
    "        #print(orderdetail_lines.loc[i]['quantity'])\n",
    "        #print(orderdetail_lines.get_value(index=i, col='price'))\n",
    "    #print(total_order)\n",
    "    return total_order"
   ]
  },
  {
   "cell_type": "code",
   "execution_count": 295,
   "metadata": {
    "collapsed": false,
    "scrolled": false
   },
   "outputs": [
    {
     "name": "stdout",
     "output_type": "stream",
     "text": [
      "2572\n",
      "2979\n",
      "9317\n"
     ]
    }
   ],
   "source": [
    "###__test__\n",
    "print(f(1))\n",
    "print(f(2))\n",
    "print(f(3))"
   ]
  },
  {
   "cell_type": "markdown",
   "metadata": {},
   "source": [
    "# Problema 14"
   ]
  },
  {
   "cell_type": "markdown",
   "metadata": {},
   "source": [
    "Imprima la cantidad de empleados que nacieron en cada uno de los trimestres (`Q1`, `Q2`, `Q3`, `Q4`) del año. Imprima un trimestre por reglón, separando las cantidades por un espacio en blanco. Por ejemplo: `'Q1 18'`. "
   ]
  },
  {
   "cell_type": "code",
   "execution_count": 236,
   "metadata": {
    "collapsed": false
   },
   "outputs": [
    {
     "name": "stdout",
     "output_type": "stream",
     "text": [
      "Q1 16\n",
      "Q2 9\n",
      "Q3 14\n",
      "Q4 11\n"
     ]
    }
   ],
   "source": [
    "def fquarter(month):\n",
    "    quarter=''\n",
    "    if(month in ['01','02','03']):\n",
    "        quarter='Q1'\n",
    "    if(month in ['04','05','06']):\n",
    "        quarter='Q2'\n",
    "    if(month in ['07','08','09']):\n",
    "        quarter='Q3'\n",
    "    if(month in ['10','11','12']):\n",
    "        quarter='Q4'\n",
    "    return quarter\n",
    "\n",
    "#employee.loc[i]['birthdate'][4:8]\n",
    "quarters = employee['birthdate'].map(lambda x: fquarter(x[9:11]))\n",
    "#print(quarters)\n",
    "quarters=quarters.reset_index()\n",
    "#print(quarters)\n",
    "employee_group_year=quarters.groupby(['birthdate']).count()\n",
    "employee_group_year=employee_group_year.reset_index()\n",
    "\n",
    "for index, row in employee_group_year.iterrows() :\n",
    "    print(str(row[0])+' '+str(row[1]))\n",
    "#print(df['A'].apply(doubler))\n",
    "\n",
    "#employee.loc[1]['birthdate'][9:11]"
   ]
  },
  {
   "cell_type": "markdown",
   "metadata": {},
   "source": [
    "# Problema 15"
   ]
  },
  {
   "cell_type": "markdown",
   "metadata": {},
   "source": [
    "Escriba una función que reciba un grupo de cuatro dígitos e imprima la cantidad de veces que aparece dicho número en el segundo grupo de dígitos de todos los números telefónicos."
   ]
  },
  {
   "cell_type": "code",
   "execution_count": 284,
   "metadata": {
    "collapsed": false
   },
   "outputs": [],
   "source": [
    "def f(num):\n",
    "    import csv\n",
    "    total_appearences_customer=0\n",
    "    total_appearences_employee=0\n",
    "    total_appearences_supplier=0\n",
    "\n",
    "    second_group = customer['phone'].map(lambda x: x[5:9])\n",
    "    #print(second_group)\n",
    "    second_group = second_group.append(employee['phone'].map(lambda x: x[5:9]))\n",
    "    second_group = second_group.append(supplier['phone'].map(lambda x: x[5:9]))\n",
    "    \n",
    "    second_group=second_group.reset_index()\n",
    "    #print(second_group)\n",
    "    occurences=second_group[second_group['phone']==num]\n",
    "    occurences=occurences.reset_index()\n",
    "   \n",
    "    #print(total_appearences_customer)\n",
    "    return len(occurences.index)"
   ]
  },
  {
   "cell_type": "code",
   "execution_count": 285,
   "metadata": {
    "collapsed": false
   },
   "outputs": [
    {
     "name": "stdout",
     "output_type": "stream",
     "text": [
      "23\n",
      "28\n",
      "26\n"
     ]
    }
   ],
   "source": [
    "###__test__\n",
    "print(f('1289'))\n",
    "print(f('2345'))\n",
    "print(f('4876'))"
   ]
  },
  {
   "cell_type": "markdown",
   "metadata": {},
   "source": [
    "---"
   ]
  }
 ],
 "metadata": {
  "kernelspec": {
   "display_name": "Python 3",
   "language": "python",
   "name": "python3"
  },
  "language_info": {
   "codemirror_mode": {
    "name": "ipython",
    "version": 3
   },
   "file_extension": ".py",
   "mimetype": "text/x-python",
   "name": "python",
   "nbconvert_exporter": "python",
   "pygments_lexer": "ipython3",
   "version": "3.6.0"
  }
 },
 "nbformat": 4,
 "nbformat_minor": 0
}
