{
 "cells": [
  {
   "cell_type": "markdown",
   "metadata": {},
   "source": [
    "**Recuerde no agregar o quitar celdas en este notebook, ni modificar su tipo. Si lo hace, el sistema automaticamente lo calificará con cero punto cero (0.0)**"
   ]
  },
  {
   "cell_type": "markdown",
   "metadata": {},
   "source": [
    "# Descripción"
   ]
  },
  {
   "cell_type": "markdown",
   "metadata": {},
   "source": [
    "Esta tarea tiene como fin ayudarlo a profundizar sus conocimientos en programación con el lenguaje Python usando la PSL (Python Standard Library). En la siguiente celda importaré algunas librerias y leeré algunos archivos por usted."
   ]
  },
  {
   "cell_type": "code",
   "execution_count": null,
   "metadata": {
    "collapsed": false
   },
   "outputs": [],
   "source": [
    "###__test__\nimport csv\n\nwith open('customer',    'r') as f: customer    = list(csv.reader(f, delimiter=',', quoting=csv.QUOTE_NONNUMERIC))\nwith open('employee',    'r') as f: employee    = list(csv.reader(f, delimiter=',', quoting=csv.QUOTE_NONNUMERIC))\nwith open('family',      'r') as f: family      = list(csv.reader(f, delimiter=',', quoting=csv.QUOTE_NONNUMERIC))\nwith open('order2000',   'r') as f: order2000   = list(csv.reader(f, delimiter=',', quoting=csv.QUOTE_NONNUMERIC))\nwith open('order2001',   'r') as f: order2001   = list(csv.reader(f, delimiter=',', quoting=csv.QUOTE_NONNUMERIC))\nwith open('order2002',   'r') as f: order2002   = list(csv.reader(f, delimiter=',', quoting=csv.QUOTE_NONNUMERIC))\nwith open('order2003',   'r') as f: order2003   = list(csv.reader(f, delimiter=',', quoting=csv.QUOTE_NONNUMERIC))\nwith open('order2004',   'r') as f: order2004   = list(csv.reader(f, delimiter=',', quoting=csv.QUOTE_NONNUMERIC))\nwith open('order2005',   'r') as f: order2005   = list(csv.reader(f, delimiter=',', quoting=csv.QUOTE_NONNUMERIC))\nwith open('order2006',   'r') as f: order2006   = list(csv.reader(f, delimiter=',', quoting=csv.QUOTE_NONNUMERIC))\nwith open('order2007',   'r') as f: order2007   = list(csv.reader(f, delimiter=',', quoting=csv.QUOTE_NONNUMERIC))\nwith open('order2008',   'r') as f: order2008   = list(csv.reader(f, delimiter=',', quoting=csv.QUOTE_NONNUMERIC))\nwith open('order2009',   'r') as f: order2009   = list(csv.reader(f, delimiter=',', quoting=csv.QUOTE_NONNUMERIC))\nwith open('order2010',   'r') as f: order2010   = list(csv.reader(f, delimiter=',', quoting=csv.QUOTE_NONNUMERIC))\nwith open('order2011',   'r') as f: order2011   = list(csv.reader(f, delimiter=',', quoting=csv.QUOTE_NONNUMERIC))\nwith open('order2012',   'r') as f: order2012   = list(csv.reader(f, delimiter=',', quoting=csv.QUOTE_NONNUMERIC))\nwith open('order2013',   'r') as f: order2013   = list(csv.reader(f, delimiter=',', quoting=csv.QUOTE_NONNUMERIC))\nwith open('order2014',   'r') as f: order2014   = list(csv.reader(f, delimiter=',', quoting=csv.QUOTE_NONNUMERIC))\nwith open('order2015',   'r') as f: order2015   = list(csv.reader(f, delimiter=',', quoting=csv.QUOTE_NONNUMERIC))\nwith open('order2016',   'r') as f: order2016   = list(csv.reader(f, delimiter=',', quoting=csv.QUOTE_NONNUMERIC))\nwith open('orderdetail', 'r') as f: orderdetail = list(csv.reader(f, delimiter=',', quoting=csv.QUOTE_NONNUMERIC))\nwith open('product',     'r') as f: product     = list(csv.reader(f, delimiter=',', quoting=csv.QUOTE_NONNUMERIC))\nwith open('supplier',    'r') as f: supplier    = list(csv.reader(f, delimiter=',', quoting=csv.QUOTE_NONNUMERIC))"
   ]
  },
  {
   "cell_type": "markdown",
   "metadata": {},
   "source": [
    "# Problema 1"
   ]
  },
  {
   "cell_type": "markdown",
   "metadata": {},
   "source": [
    "Imprima el valor del campo `ssn` (uno por línea) para los registros 2, 6 y 8 del archivo `employee`."
   ]
  },
  {
   "cell_type": "code",
   "execution_count": null,
   "metadata": {
    "collapsed": false
   },
   "outputs": [],
   "source": []
  },
  {
   "cell_type": "markdown",
   "metadata": {},
   "source": [
    "# Problema 2"
   ]
  },
  {
   "cell_type": "markdown",
   "metadata": {},
   "source": [
    "Imprima el total de registros (uno por línea) para los archivos `employee`, `product` y `orderdetail`."
   ]
  },
  {
   "cell_type": "code",
   "execution_count": null,
   "metadata": {
    "collapsed": false
   },
   "outputs": [],
   "source": [
    "#\n# escriba su codigo aqui\n#"
   ]
  },
  {
   "cell_type": "markdown",
   "metadata": {},
   "source": [
    "# Problema 3"
   ]
  },
  {
   "cell_type": "markdown",
   "metadata": {},
   "source": [
    "Escriba una función `f` que reciba el nombre de un departamento y cuente cuantos registros hay para dicho departamento en el archivo `employee`. "
   ]
  },
  {
   "cell_type": "code",
   "execution_count": null,
   "metadata": {
    "collapsed": true
   },
   "outputs": [],
   "source": [
    "def f(departamento):\n    #\n    # escriba su codigo aqui\n    #\n    pass"
   ]
  },
  {
   "cell_type": "code",
   "execution_count": null,
   "metadata": {
    "collapsed": false
   },
   "outputs": [],
   "source": [
    "###__test__\nf(\"Accounting\")\nf(\"Advertising\")\nf(\"Asset Management\")\nf(\"Media Relations\")\nf(\"Sales and Marketing\")"
   ]
  },
  {
   "cell_type": "markdown",
   "metadata": {},
   "source": [
    "# Problema 4"
   ]
  },
  {
   "cell_type": "markdown",
   "metadata": {},
   "source": [
    "Imprima una tabla con la cantidad de empleados nacidos por año, ordenada por año y un año por línea. Use un espacio en blanco para separar el año y la cantidad de personas; por ejemplo, '1969 2'. "
   ]
  },
  {
   "cell_type": "code",
   "execution_count": null,
   "metadata": {
    "collapsed": false,
    "scrolled": true
   },
   "outputs": [],
   "source": [
    "#\n# escriba su codigo aqui\n#"
   ]
  },
  {
   "cell_type": "markdown",
   "metadata": {},
   "source": [
    "# Problema 5"
   ]
  },
  {
   "cell_type": "markdown",
   "metadata": {},
   "source": [
    "Imprima una lista con las ciudades del archivo `employee` ordenadas alfabéticamente y sin repetir ciudad. Imprima una ciudad por renglón. "
   ]
  },
  {
   "cell_type": "code",
   "execution_count": null,
   "metadata": {
    "collapsed": false
   },
   "outputs": [],
   "source": [
    "#\n# escriba su codigo aqui\n#"
   ]
  },
  {
   "cell_type": "markdown",
   "metadata": {},
   "source": [
    "# Problema 6"
   ]
  },
  {
   "cell_type": "markdown",
   "metadata": {},
   "source": [
    "Imprima una lista con las ciudades del archivo `employee` ordenadas alfabéticamente indicando cuántas veces aparece cada ciudad en el archivo. Imprima una ciudad por renglón. Separe la ciudad y la cantidad por un espacio en blanco; por ejemplo: 'BELLEFONTE 3'."
   ]
  },
  {
   "cell_type": "code",
   "execution_count": null,
   "metadata": {
    "collapsed": false,
    "scrolled": true
   },
   "outputs": [],
   "source": [
    "#\n# escriba su codigo aqui\n#"
   ]
  },
  {
   "cell_type": "markdown",
   "metadata": {},
   "source": [
    "# Problema 7"
   ]
  },
  {
   "cell_type": "markdown",
   "metadata": {},
   "source": [
    "Imprima, por cada ciudad diferente del archivo `employee`, cuántos registros quedan si se eliminan todos los registros que contienen dicha ciudad. Imprima la lista ordenada alfabéticamente. Separe la ciudad y la cantidad usando un espacio en blanco; por ejemplo: `'BELLEFONTE 47'`."
   ]
  },
  {
   "cell_type": "code",
   "execution_count": null,
   "metadata": {
    "collapsed": false
   },
   "outputs": [],
   "source": [
    "#\n# escriba su codigo aqui\n#"
   ]
  },
  {
   "cell_type": "markdown",
   "metadata": {},
   "source": [
    "# Problema 8"
   ]
  },
  {
   "cell_type": "markdown",
   "metadata": {},
   "source": [
    "Escriba una función que reciba el nombre completo de un hijo (campo `fullname` del archivo `family`), y devuelva el primer nombre (`fullname`) del padre. "
   ]
  },
  {
   "cell_type": "code",
   "execution_count": null,
   "metadata": {
    "collapsed": true
   },
   "outputs": [],
   "source": [
    "def f(fullname):\n    #\n    # escriba su codigo aqui\n    #\n    pass"
   ]
  },
  {
   "cell_type": "code",
   "execution_count": null,
   "metadata": {
    "collapsed": false
   },
   "outputs": [],
   "source": [
    "###__test__\nprint(f('Jean Bailey'))\nprint(f('Berneice Neil'))\nprint(f('Mammie Montano'))\nprint(f('Nettie Beasley'))"
   ]
  },
  {
   "cell_type": "markdown",
   "metadata": {},
   "source": [
    "# Problema 9"
   ]
  },
  {
   "cell_type": "markdown",
   "metadata": {},
   "source": [
    "Escriba una función que reciba el número de orden (`order.id`) y devuelva el nombre completo (`fullname`) del empleado que la atendio."
   ]
  },
  {
   "cell_type": "code",
   "execution_count": null,
   "metadata": {
    "collapsed": true
   },
   "outputs": [],
   "source": [
    "def f(orderid):\n    #\n    # escriba su codigo aqui\n    #\n    pass"
   ]
  },
  {
   "cell_type": "code",
   "execution_count": null,
   "metadata": {
    "collapsed": false
   },
   "outputs": [],
   "source": [
    "###__test__\nprint(f(309))\nprint(f(653))\nprint(f(996))"
   ]
  },
  {
   "cell_type": "markdown",
   "metadata": {},
   "source": [
    "# Problema 10"
   ]
  },
  {
   "cell_type": "markdown",
   "metadata": {},
   "source": [
    "Escriba una función que reciba el número de orden (`order.id`) y devuelva el nombre completo (`fullname`) del cliente que la solicitó."
   ]
  },
  {
   "cell_type": "code",
   "execution_count": null,
   "metadata": {
    "collapsed": true
   },
   "outputs": [],
   "source": [
    "def f(orderid):\n    #\n    # escriba su codigo aqui\n    #\n    pass"
   ]
  },
  {
   "cell_type": "code",
   "execution_count": null,
   "metadata": {
    "collapsed": false
   },
   "outputs": [],
   "source": [
    "###__test__\nprint(f(309))\nprint(f(653))\nprint(f(996))"
   ]
  },
  {
   "cell_type": "markdown",
   "metadata": {},
   "source": [
    "# Problema 11"
   ]
  },
  {
   "cell_type": "markdown",
   "metadata": {},
   "source": [
    "Escriba una función que reciba el nombre de un empleado (`fullname`) y retorne la cantidad de órdenes atendidas por él."
   ]
  },
  {
   "cell_type": "code",
   "execution_count": null,
   "metadata": {
    "collapsed": true
   },
   "outputs": [],
   "source": [
    "def f(fullname):\n    #\n    # escriba su codigo aqui\n    #\n    pass"
   ]
  },
  {
   "cell_type": "code",
   "execution_count": null,
   "metadata": {
    "collapsed": false
   },
   "outputs": [],
   "source": [
    "###__test__\nprint(f('Christy Petry'))\nprint(f('Gisela Strong'))\nprint(f('Ellis Ervin'))"
   ]
  },
  {
   "cell_type": "markdown",
   "metadata": {},
   "source": [
    "# Problema 12"
   ]
  },
  {
   "cell_type": "markdown",
   "metadata": {},
   "source": [
    "Escriba una función que reciba el nombre de un empleado y retorne el valor mínino del campo `order.id` del total de ordenes que atendió. "
   ]
  },
  {
   "cell_type": "code",
   "execution_count": null,
   "metadata": {
    "collapsed": true
   },
   "outputs": [],
   "source": [
    "def f(fullname):\n    #\n    # escriba su codigo aqui\n    #\n    pass"
   ]
  },
  {
   "cell_type": "code",
   "execution_count": null,
   "metadata": {
    "collapsed": false
   },
   "outputs": [],
   "source": [
    "###__test__\nprint(f('Christy Petry'))\nprint(f('Gisela Strong'))\nprint(f('Ellis Ervin'))"
   ]
  },
  {
   "cell_type": "markdown",
   "metadata": {},
   "source": [
    "# Problema 13"
   ]
  },
  {
   "cell_type": "markdown",
   "metadata": {},
   "source": [
    "Escriba una función que reciba el `order.id` de una orden y retorne el cálculo del valor total de la orden."
   ]
  },
  {
   "cell_type": "code",
   "execution_count": null,
   "metadata": {
    "collapsed": true
   },
   "outputs": [],
   "source": [
    "def f(orderid):\n    #\n    # escriba su codigo aqui\n    #\n    pass"
   ]
  },
  {
   "cell_type": "code",
   "execution_count": null,
   "metadata": {
    "collapsed": false
   },
   "outputs": [],
   "source": [
    "###__test__\nprint(f(1))\nprint(f(2))\nprint(f(3))"
   ]
  },
  {
   "cell_type": "markdown",
   "metadata": {},
   "source": [
    "# Problema 14"
   ]
  },
  {
   "cell_type": "markdown",
   "metadata": {},
   "source": [
    "Imprima la cantidad de empleados que nacieron en cada uno de los trimestres (`Q1`, `Q2`, `Q3`, `Q4`) del año. Imprima un trimestre por reglón, separando las cantidades por un espacio en blanco. Por ejemplo: `'Q1 18'`. "
   ]
  },
  {
   "cell_type": "code",
   "execution_count": null,
   "metadata": {
    "collapsed": false
   },
   "outputs": [],
   "source": [
    "#\n# escriba su codigo aqui\n#"
   ]
  },
  {
   "cell_type": "markdown",
   "metadata": {},
   "source": [
    "# Problema 15"
   ]
  },
  {
   "cell_type": "markdown",
   "metadata": {},
   "source": [
    "Escriba una función que reciba un grupo de cuatro dígitos e imprima la cantidad de veces que aparece dicho número en el segundo grupo de dígitos de todos los números telefónicos."
   ]
  },
  {
   "cell_type": "code",
   "execution_count": null,
   "metadata": {
    "collapsed": true
   },
   "outputs": [],
   "source": [
    "def f(num):\n    #\n    # escriba su codigo aqui\n    #\n    pass"
   ]
  },
  {
   "cell_type": "code",
   "execution_count": null,
   "metadata": {
    "collapsed": false
   },
   "outputs": [],
   "source": [
    "###__test__\nprint(f('1289'))\nprint(f('2345'))\nprint(f('4876'))"
   ]
  },
  {
   "cell_type": "markdown",
   "metadata": {},
   "source": [
    "---"
   ]
  }
 ],
 "metadata": {
  "kernelspec": {
   "display_name": "Python 3",
   "language": "python",
   "name": "python3"
  },
  "language_info": {
   "codemirror_mode": {
    "name": "ipython",
    "version": 3
   },
   "file_extension": ".py",
   "mimetype": "text/x-python",
   "name": "python",
   "nbconvert_exporter": "python",
   "pygments_lexer": "ipython3",
   "version": "3.5.2"
  }
 },
 "nbformat": 4,
 "nbformat_minor": 0
}
