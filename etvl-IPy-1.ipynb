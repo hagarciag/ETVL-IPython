{
 "cells": [
  {
   "cell_type": "markdown",
   "metadata": {},
   "source": [
    "**Recuerde no agregar o quitar celdas en este notebook, ni modificar su tipo. Si lo hace, el sistema automaticamente lo calificará con cero punto cero (0.0)**"
   ]
  },
  {
   "cell_type": "markdown",
   "metadata": {},
   "source": [
    "# Descripción"
   ]
  },
  {
   "cell_type": "markdown",
   "metadata": {},
   "source": [
    "Esta tarea tiene como fin ayudarlo a profundizar sus conocimientos en programación con el lenguaje Python usando la PSL (Python Standard Library). En la siguiente celda importaré algunas librerias y leeré algunos archivos por usted."
   ]
  },
  {
   "cell_type": "code",
   "execution_count": 44,
   "metadata": {
    "collapsed": false
   },
   "outputs": [],
   "source": [
    "###__test__\n",
    "import csv\n",
    "\n",
    "with open('customer',    'r') as f: customer    = list(csv.reader(f, delimiter=',', quoting=csv.QUOTE_NONNUMERIC))\n",
    "with open('employee',    'r') as f: employee    = list(csv.reader(f, delimiter=',', quoting=csv.QUOTE_NONNUMERIC))\n",
    "with open('family',      'r') as f: family      = list(csv.reader(f, delimiter=',', quoting=csv.QUOTE_NONNUMERIC))\n",
    "with open('order2000',   'r') as f: order2000   = list(csv.reader(f, delimiter=',', quoting=csv.QUOTE_NONNUMERIC))\n",
    "with open('order2001',   'r') as f: order2001   = list(csv.reader(f, delimiter=',', quoting=csv.QUOTE_NONNUMERIC))\n",
    "with open('order2002',   'r') as f: order2002   = list(csv.reader(f, delimiter=',', quoting=csv.QUOTE_NONNUMERIC))\n",
    "with open('order2003',   'r') as f: order2003   = list(csv.reader(f, delimiter=',', quoting=csv.QUOTE_NONNUMERIC))\n",
    "with open('order2004',   'r') as f: order2004   = list(csv.reader(f, delimiter=',', quoting=csv.QUOTE_NONNUMERIC))\n",
    "with open('order2005',   'r') as f: order2005   = list(csv.reader(f, delimiter=',', quoting=csv.QUOTE_NONNUMERIC))\n",
    "with open('order2006',   'r') as f: order2006   = list(csv.reader(f, delimiter=',', quoting=csv.QUOTE_NONNUMERIC))\n",
    "with open('order2007',   'r') as f: order2007   = list(csv.reader(f, delimiter=',', quoting=csv.QUOTE_NONNUMERIC))\n",
    "with open('order2008',   'r') as f: order2008   = list(csv.reader(f, delimiter=',', quoting=csv.QUOTE_NONNUMERIC))\n",
    "with open('order2009',   'r') as f: order2009   = list(csv.reader(f, delimiter=',', quoting=csv.QUOTE_NONNUMERIC))\n",
    "with open('order2010',   'r') as f: order2010   = list(csv.reader(f, delimiter=',', quoting=csv.QUOTE_NONNUMERIC))\n",
    "with open('order2011',   'r') as f: order2011   = list(csv.reader(f, delimiter=',', quoting=csv.QUOTE_NONNUMERIC))\n",
    "with open('order2012',   'r') as f: order2012   = list(csv.reader(f, delimiter=',', quoting=csv.QUOTE_NONNUMERIC))\n",
    "with open('order2013',   'r') as f: order2013   = list(csv.reader(f, delimiter=',', quoting=csv.QUOTE_NONNUMERIC))\n",
    "with open('order2014',   'r') as f: order2014   = list(csv.reader(f, delimiter=',', quoting=csv.QUOTE_NONNUMERIC))\n",
    "with open('order2015',   'r') as f: order2015   = list(csv.reader(f, delimiter=',', quoting=csv.QUOTE_NONNUMERIC))\n",
    "with open('order2016',   'r') as f: order2016   = list(csv.reader(f, delimiter=',', quoting=csv.QUOTE_NONNUMERIC))\n",
    "with open('orderdetail', 'r') as f: orderdetail = list(csv.reader(f, delimiter=',', quoting=csv.QUOTE_NONNUMERIC))\n",
    "with open('product',     'r') as f: product     = list(csv.reader(f, delimiter=',', quoting=csv.QUOTE_NONNUMERIC))\n",
    "with open('supplier',    'r') as f: supplier    = list(csv.reader(f, delimiter=',', quoting=csv.QUOTE_NONNUMERIC))"
   ]
  },
  {
   "cell_type": "markdown",
   "metadata": {},
   "source": [
    "# Problema 1"
   ]
  },
  {
   "cell_type": "markdown",
   "metadata": {},
   "source": [
    "Imprima el valor del campo `ssn` (uno por línea) para los registros 2, 6 y 8 del archivo `employee`."
   ]
  },
  {
   "cell_type": "code",
   "execution_count": 132,
   "metadata": {
    "collapsed": false
   },
   "outputs": [
    {
     "name": "stdout",
     "output_type": "stream",
     "text": [
      "496-99-2998\n",
      "323-35-2171\n",
      "496-24-5751\n"
     ]
    }
   ],
   "source": [
    "import csv\n",
    "with open('employee',    'r') as f: employee    = list(csv.reader(f, delimiter=',', quoting=csv.QUOTE_NONNUMERIC))\n",
    "#print(employee)\n",
    "#[print(employee[i][4]) for i,x in enumerate(employee) if i == 2 or i==6 or i==8]\n",
    "print(employee[2][4])\n",
    "print(employee[6][4])\n",
    "print(employee[8][4])"
   ]
  },
  {
   "cell_type": "markdown",
   "metadata": {},
   "source": [
    "# Problema 2"
   ]
  },
  {
   "cell_type": "markdown",
   "metadata": {},
   "source": [
    "Imprima el total de registros (uno por línea) para los archivos `employee`, `product` y `orderdetail`."
   ]
  },
  {
   "cell_type": "code",
   "execution_count": 106,
   "metadata": {
    "collapsed": false
   },
   "outputs": [
    {
     "name": "stdout",
     "output_type": "stream",
     "text": [
      "50\n",
      "146\n",
      "25946\n"
     ]
    }
   ],
   "source": [
    "#\n",
    "import csv\n",
    "with open('employee',    'r') as f: employee    = list(csv.reader(f, delimiter=',', quoting=csv.QUOTE_NONNUMERIC))\n",
    "with open('product',    'r') as f: product    = list(csv.reader(f, delimiter=',', quoting=csv.QUOTE_NONNUMERIC))\n",
    "with open('orderdetail',    'r') as f: orderdetail    = list(csv.reader(f, delimiter=',', quoting=csv.QUOTE_NONNUMERIC))\n",
    "print(len(employee)-1)\n",
    "print(len(product)-1)\n",
    "print(len(orderdetail)-1)\n",
    "#"
   ]
  },
  {
   "cell_type": "markdown",
   "metadata": {},
   "source": [
    "# Problema 3"
   ]
  },
  {
   "cell_type": "markdown",
   "metadata": {},
   "source": [
    "Escriba una función `f` que reciba el nombre de un departamento y cuente cuantos registros hay para dicho departamento en el archivo `employee`. "
   ]
  },
  {
   "cell_type": "code",
   "execution_count": 114,
   "metadata": {
    "collapsed": false
   },
   "outputs": [],
   "source": [
    "def f(departamento):\n",
    "    import csv\n",
    "    with open('employee',    'r') as f: employee    = list(csv.reader(f, delimiter=',', quoting=csv.QUOTE_NONNUMERIC))\n",
    "    totalEmployees = 0\n",
    "    for i in range(len(employee)):\n",
    "        if(employee[i][3] == departamento):\n",
    "            totalEmployees +=1\n",
    "    return totalEmployees\n"
   ]
  },
  {
   "cell_type": "code",
   "execution_count": 115,
   "metadata": {
    "collapsed": false
   },
   "outputs": [
    {
     "name": "stdout",
     "output_type": "stream",
     "text": [
      "4\n",
      "3\n",
      "3\n",
      "1\n",
      "21\n"
     ]
    }
   ],
   "source": [
    "###__test__\n",
    "print(f(\"Accounting\"))\n",
    "print(f(\"Advertising\"))\n",
    "print(f(\"Asset Management\"))\n",
    "print(f(\"Media Relations\"))\n",
    "print(f(\"Sales and Marketing\"))"
   ]
  },
  {
   "cell_type": "markdown",
   "metadata": {},
   "source": [
    "# Problema 4"
   ]
  },
  {
   "cell_type": "markdown",
   "metadata": {},
   "source": [
    "Imprima una tabla con la cantidad de empleados nacidos por año, ordenada por año y un año por línea. Use un espacio en blanco para separar el año y la cantidad de personas; por ejemplo, '1969 2'. "
   ]
  },
  {
   "cell_type": "code",
   "execution_count": 118,
   "metadata": {
    "collapsed": false,
    "scrolled": true
   },
   "outputs": [
    {
     "name": "stdout",
     "output_type": "stream",
     "text": [
      "1969   2\n",
      "1970   2\n",
      "1971   5\n",
      "1972   1\n",
      "1973   1\n",
      "1974   1\n",
      "1975   2\n",
      "1976   4\n",
      "1977   3\n",
      "1978   1\n",
      "1979   5\n",
      "1980   4\n",
      "1981   2\n",
      "1982   2\n",
      "1983   1\n",
      "1984   2\n",
      "1985   3\n",
      "1986   3\n",
      "1987   1\n",
      "1988   3\n",
      "1990   2\n"
     ]
    }
   ],
   "source": [
    "#\n",
    "import csv\n",
    "with open('employee',    'r') as f: employee    = list(csv.reader(f, delimiter=',', quoting=csv.QUOTE_NONNUMERIC))\n",
    "d={}\n",
    "for i in range(len(employee)):\n",
    "    s1 = employee[i][8];\n",
    "    s2=s1[4:8];\n",
    "    # No imprima el encabezado\n",
    "    if i == 0: continue\n",
    "    if(s2 in d):\n",
    "        d[s2]=d[s2]+1;\n",
    "    else:\n",
    "        d[s2]=1;\n",
    "\n",
    "\n",
    "for dict_key, dict_value in sorted(d.items()):\n",
    "    print(dict_key,' ',dict_value)\n",
    "\n"
   ]
  },
  {
   "cell_type": "markdown",
   "metadata": {},
   "source": [
    "# Problema 5"
   ]
  },
  {
   "cell_type": "markdown",
   "metadata": {},
   "source": [
    "Imprima una lista con las ciudades del archivo `employee` ordenadas alfabéticamente y sin repetir ciudad. Imprima una ciudad por renglón. "
   ]
  },
  {
   "cell_type": "code",
   "execution_count": 117,
   "metadata": {
    "collapsed": false
   },
   "outputs": [
    {
     "name": "stdout",
     "output_type": "stream",
     "text": [
      "BELLEFONTE\n",
      "BLAINE\n",
      "BURNS FLAT\n",
      "CEDAR HILL\n",
      "CHANCELLOR\n",
      "CHARLOTTESVILLE\n",
      "CHESHIRE\n",
      "COPELAND\n",
      "FT MITCHELL\n",
      "GARRISON\n",
      "GRANDVIEW\n",
      "MANISTIQUE\n",
      "MONTCLAIR\n",
      "PAWCATUCK\n",
      "RIDGEFIELD\n",
      "RUIDOSO\n",
      "SANTA BARBARA\n",
      "SARASOTA\n",
      "TALLASSEE\n",
      "TAWAS CITY\n",
      "TEHACHAPI\n",
      "TERRA\n",
      "WINTER HAVEN\n"
     ]
    }
   ],
   "source": [
    "#\n",
    "#\n",
    "import csv\n",
    "with open('employee',    'r') as f: employee    = list(csv.reader(f, delimiter=',', quoting=csv.QUOTE_NONNUMERIC))\n",
    "d=[]\n",
    "for i in range(len(employee)):\n",
    "    s1 = employee[i][6];\n",
    "    # No imprima el encabezado\n",
    "    if i == 0: continue\n",
    "    if(s1 in d):\n",
    "        pass\n",
    "    else:\n",
    "        d.append(s1);\n",
    "d.sort()\n",
    "print(*d,sep='\\n');\n",
    "\n",
    "#"
   ]
  },
  {
   "cell_type": "markdown",
   "metadata": {},
   "source": [
    "# Problema 6"
   ]
  },
  {
   "cell_type": "markdown",
   "metadata": {},
   "source": [
    "Imprima una lista con las ciudades del archivo `employee` ordenadas alfabéticamente indicando cuántas veces aparece cada ciudad en el archivo. Imprima una ciudad por renglón. Separe la ciudad y la cantidad por un espacio en blanco; por ejemplo: 'BELLEFONTE 3'."
   ]
  },
  {
   "cell_type": "code",
   "execution_count": 122,
   "metadata": {
    "collapsed": false,
    "scrolled": true
   },
   "outputs": [
    {
     "name": "stdout",
     "output_type": "stream",
     "text": [
      "BELLEFONTE 3\n",
      "BLAINE 1\n",
      "BURNS FLAT 2\n",
      "CEDAR HILL 2\n",
      "CHANCELLOR 2\n",
      "CHARLOTTESVILLE 1\n",
      "CHESHIRE 1\n",
      "COPELAND 5\n",
      "FT MITCHELL 1\n",
      "GARRISON 2\n",
      "GRANDVIEW 2\n",
      "MANISTIQUE 2\n",
      "MONTCLAIR 3\n",
      "PAWCATUCK 4\n",
      "RIDGEFIELD 1\n",
      "RUIDOSO 1\n",
      "SANTA BARBARA 2\n",
      "SARASOTA 5\n",
      "TALLASSEE 1\n",
      "TAWAS CITY 2\n",
      "TEHACHAPI 1\n",
      "TERRA 3\n",
      "WINTER HAVEN 3\n"
     ]
    }
   ],
   "source": [
    "#\n",
    "import csv\n",
    "with open('employee',    'r') as f: employee    = list(csv.reader(f, delimiter=',', quoting=csv.QUOTE_NONNUMERIC))\n",
    "d={}\n",
    "for i in range(len(employee)):\n",
    "    s1 = employee[i][6];\n",
    "    # No imprima el encabezado\n",
    "    if i == 0: continue\n",
    "    if(s1 in d):\n",
    "        d[s1]=d[s1]+1;\n",
    "    else:\n",
    "        d[s1]=1;\n",
    "\n",
    "\n",
    "for key in sorted(d):\n",
    "    print(\"%s %s\" % (key, d[key]))\n"
   ]
  },
  {
   "cell_type": "markdown",
   "metadata": {},
   "source": [
    "# Problema 7"
   ]
  },
  {
   "cell_type": "markdown",
   "metadata": {},
   "source": [
    "Imprima, por cada ciudad diferente del archivo `employee`, cuántos registros quedan si se eliminan todos los registros que contienen dicha ciudad. Imprima la lista ordenada alfabéticamente. Separe la ciudad y la cantidad usando un espacio en blanco; por ejemplo: `'BELLEFONTE 47'`."
   ]
  },
  {
   "cell_type": "code",
   "execution_count": 127,
   "metadata": {
    "collapsed": false
   },
   "outputs": [
    {
     "name": "stdout",
     "output_type": "stream",
     "text": [
      "BELLEFONTE 47\n",
      "BLAINE 49\n",
      "BURNS FLAT 48\n",
      "CEDAR HILL 48\n",
      "CHANCELLOR 48\n",
      "CHARLOTTESVILLE 49\n",
      "CHESHIRE 49\n",
      "COPELAND 45\n",
      "FT MITCHELL 49\n",
      "GARRISON 48\n",
      "GRANDVIEW 48\n",
      "MANISTIQUE 48\n",
      "MONTCLAIR 47\n",
      "PAWCATUCK 46\n",
      "RIDGEFIELD 49\n",
      "RUIDOSO 49\n",
      "SANTA BARBARA 48\n",
      "SARASOTA 45\n",
      "TALLASSEE 49\n",
      "TAWAS CITY 48\n",
      "TEHACHAPI 49\n",
      "TERRA 47\n",
      "WINTER HAVEN 47\n"
     ]
    }
   ],
   "source": [
    "#\n",
    "import csv\n",
    "with open('employee',    'r') as f: employee    = list(csv.reader(f, delimiter=',', quoting=csv.QUOTE_NONNUMERIC))\n",
    "d={}\n",
    "d1={}\n",
    "totalRecords=len(employee)-1;\n",
    "\n",
    "for i in range(len(employee)):\n",
    "    s1 = employee[i][6];\n",
    "    # No imprima el encabezado\n",
    "    if i == 0: continue\n",
    "    if(s1 in d):\n",
    "        d[s1]=d[s1]+1;\n",
    "        d1[s1]=totalRecords-d[s1];\n",
    "    else:\n",
    "        d[s1]=1;\n",
    "        d1[s1]=totalRecords-1;\n",
    "\n",
    "for key in sorted(d1):\n",
    "    print(\"%s %s\" % (key, d1[key]))\n",
    "#"
   ]
  },
  {
   "cell_type": "markdown",
   "metadata": {},
   "source": [
    "# Problema 8"
   ]
  },
  {
   "cell_type": "markdown",
   "metadata": {},
   "source": [
    "Escriba una función que reciba el nombre completo de un hijo (campo `fullname` del archivo `family`), y devuelva el primer nombre (`fullname`) del padre. "
   ]
  },
  {
   "cell_type": "code",
   "execution_count": 41,
   "metadata": {
    "collapsed": false
   },
   "outputs": [],
   "source": [
    "def f(fullname):\n",
    "    #\n",
    "    import csv\n",
    "    with open('family',      'r') as f: family      = list(csv.reader(f, delimiter=',', quoting=csv.QUOTE_NONNUMERIC))\n",
    "    for i in range(len(family)):\n",
    "        #print(employee[i][3])\n",
    "        if(family[i][2] == fullname):\n",
    "            #print(fullname)\n",
    "            id_padre = '{0:.0f}'.format(family[i][1])\n",
    "            for j in range(len(family)):\n",
    "                #print(id_padre)\n",
    "                #print(family[i][1])\n",
    "                #print(family[j][0])\n",
    "                if(family[j][0] == id_padre):\n",
    "                    return family[j][2];\n",
    "    return \"No se encontró padre\"\n"
   ]
  },
  {
   "cell_type": "code",
   "execution_count": 42,
   "metadata": {
    "collapsed": false
   },
   "outputs": [
    {
     "name": "stdout",
     "output_type": "stream",
     "text": [
      "Catalina Hartnett\n",
      "Viva Montano\n",
      "Shirley Hobbs\n",
      "Cecelia Hartnett\n"
     ]
    }
   ],
   "source": [
    "###__test__\n",
    "print(f('Jean Bailey'))\n",
    "print(f('Berneice Neil'))\n",
    "print(f('Mammie Montano'))\n",
    "print(f('Nettie Beasley'))"
   ]
  },
  {
   "cell_type": "markdown",
   "metadata": {},
   "source": [
    "# Problema 9"
   ]
  },
  {
   "cell_type": "markdown",
   "metadata": {},
   "source": [
    "Escriba una función que reciba el número de orden (`order.id`) y devuelva el nombre completo (`fullname`) del empleado que la atendio."
   ]
  },
  {
   "cell_type": "code",
   "execution_count": 124,
   "metadata": {
    "collapsed": true
   },
   "outputs": [],
   "source": [
    "def f(orderid):\n",
    "    #\n",
    "    orders=[]\n",
    "    orders.extend(order2000) \n",
    "    orders.extend(order2001) \n",
    "    orders.extend(order2002) \n",
    "    orders.extend(order2003) \n",
    "    orders.extend(order2004) \n",
    "    orders.extend(order2005) \n",
    "    orders.extend(order2006) \n",
    "    orders.extend(order2007) \n",
    "    orders.extend(order2008) \n",
    "    orders.extend(order2009) \n",
    "    orders.extend(order2010) \n",
    "    orders.extend(order2011) \n",
    "    orders.extend(order2012) \n",
    "    orders.extend(order2013) \n",
    "    orders.extend(order2014) \n",
    "    orders.extend(order2015) \n",
    "    orders.extend(order2016) \n",
    "    \n",
    "    import csv\n",
    "    with open('employee',    'r') as f: employee    = list(csv.reader(f, delimiter=',', quoting=csv.QUOTE_NONNUMERIC))\n",
    "    for i in range(len(orders)):\n",
    "        if(orders[i][1] == orderid):\n",
    "            id_employee = orders[i][3]\n",
    "            for j in range(len(employee)):\n",
    "                if(employee[j][1] == id_employee):\n",
    "                    return employee[j][2];\n",
    "    return \"No se encontró empleado\""
   ]
  },
  {
   "cell_type": "code",
   "execution_count": 125,
   "metadata": {
    "collapsed": false
   },
   "outputs": [
    {
     "name": "stdout",
     "output_type": "stream",
     "text": [
      "Christy Petry\n",
      "Damaris Parry\n",
      "Bailey Beasley\n"
     ]
    }
   ],
   "source": [
    "###__test__\n",
    "print(f(309))\n",
    "print(f(653))\n",
    "print(f(996))"
   ]
  },
  {
   "cell_type": "markdown",
   "metadata": {},
   "source": [
    "# Problema 10"
   ]
  },
  {
   "cell_type": "markdown",
   "metadata": {},
   "source": [
    "Escriba una función que reciba el número de orden (`order.id`) y devuelva el nombre completo (`fullname`) del cliente que la solicitó."
   ]
  },
  {
   "cell_type": "code",
   "execution_count": 60,
   "metadata": {
    "collapsed": true
   },
   "outputs": [],
   "source": [
    "def f(orderid):\n",
    "    #\n",
    "    orders=[]\n",
    "    orders.extend(order2000) \n",
    "    orders.extend(order2001) \n",
    "    orders.extend(order2002) \n",
    "    orders.extend(order2003) \n",
    "    orders.extend(order2004) \n",
    "    orders.extend(order2005) \n",
    "    orders.extend(order2006) \n",
    "    orders.extend(order2007) \n",
    "    orders.extend(order2008) \n",
    "    orders.extend(order2009) \n",
    "    orders.extend(order2010) \n",
    "    orders.extend(order2011) \n",
    "    orders.extend(order2012) \n",
    "    orders.extend(order2013) \n",
    "    orders.extend(order2014) \n",
    "    orders.extend(order2015) \n",
    "    orders.extend(order2016) \n",
    "    \n",
    "    import csv\n",
    "    with open('customer',    'r') as f: customer    = list(csv.reader(f, delimiter=',', quoting=csv.QUOTE_NONNUMERIC))\n",
    "    #print(customer[0][:])\n",
    "    for i in range(len(orders)):\n",
    "        #print(employee[i][3])\n",
    "        if(orders[i][1] == orderid):\n",
    "            #print(fullname)\n",
    "            #id_padre = '{0:.0f}'.format(family[i][1])\n",
    "            id_customer = orders[i][2]\n",
    "            for j in range(len(customer)):\n",
    "                #print(id_padre)\n",
    "                #print(family[i][1])\n",
    "                #print(family[j][0])\n",
    "                if(customer[j][0] == id_customer):\n",
    "                    return customer[j][3];\n",
    "    return \"No se encontró cliente\""
   ]
  },
  {
   "cell_type": "code",
   "execution_count": 61,
   "metadata": {
    "collapsed": false
   },
   "outputs": [
    {
     "name": "stdout",
     "output_type": "stream",
     "text": [
      "Carmen Zimmerman\n",
      "Theodore Pernell\n",
      "Marilynn Laws\n"
     ]
    }
   ],
   "source": [
    "###__test__\n",
    "print(f(309))\n",
    "print(f(653))\n",
    "print(f(996))"
   ]
  },
  {
   "cell_type": "markdown",
   "metadata": {},
   "source": [
    "# Problema 11"
   ]
  },
  {
   "cell_type": "markdown",
   "metadata": {},
   "source": [
    "Escriba una función que reciba el nombre de un empleado (`fullname`) y retorne la cantidad de órdenes atendidas por él."
   ]
  },
  {
   "cell_type": "code",
   "execution_count": 126,
   "metadata": {
    "collapsed": true
   },
   "outputs": [],
   "source": [
    "def f(fullname):\n",
    "    orders=[]\n",
    "    orders.extend(order2000) \n",
    "    orders.extend(order2001) \n",
    "    orders.extend(order2002) \n",
    "    orders.extend(order2003) \n",
    "    orders.extend(order2004) \n",
    "    orders.extend(order2005) \n",
    "    orders.extend(order2006) \n",
    "    orders.extend(order2007) \n",
    "    orders.extend(order2008) \n",
    "    orders.extend(order2009) \n",
    "    orders.extend(order2010) \n",
    "    orders.extend(order2011) \n",
    "    orders.extend(order2012) \n",
    "    orders.extend(order2013) \n",
    "    orders.extend(order2014) \n",
    "    orders.extend(order2015) \n",
    "    orders.extend(order2016) \n",
    "\n",
    "    import csv\n",
    "    orders_employee=0\n",
    "    with open('employee',    'r') as f: employee    = list(csv.reader(f, delimiter=',', quoting=csv.QUOTE_NONNUMERIC))\n",
    "    for j in range(len(employee)):\n",
    "        if(employee[j][2] == fullname):\n",
    "            id_employee = employee[j][1]\n",
    "            for i in range(len(orders)):\n",
    "                if(orders[i][3] == id_employee):\n",
    "                    orders_employee+=1;\n",
    "    return orders_employee"
   ]
  },
  {
   "cell_type": "code",
   "execution_count": 127,
   "metadata": {
    "collapsed": false
   },
   "outputs": [
    {
     "name": "stdout",
     "output_type": "stream",
     "text": [
      "238\n",
      "225\n",
      "270\n"
     ]
    }
   ],
   "source": [
    "###__test__\n",
    "print(f('Christy Petry'))\n",
    "print(f('Gisela Strong'))\n",
    "print(f('Ellis Ervin'))"
   ]
  },
  {
   "cell_type": "markdown",
   "metadata": {},
   "source": [
    "# Problema 12"
   ]
  },
  {
   "cell_type": "markdown",
   "metadata": {},
   "source": [
    "Escriba una función que reciba el nombre de un empleado y retorne el valor mínino del campo `order.id` del total de ordenes que atendió. "
   ]
  },
  {
   "cell_type": "code",
   "execution_count": 128,
   "metadata": {
    "collapsed": false
   },
   "outputs": [],
   "source": [
    "def f(fullname):\n",
    "    orders=[]\n",
    "    orders.extend(order2000) \n",
    "    orders.extend(order2001) \n",
    "    orders.extend(order2002) \n",
    "    orders.extend(order2003) \n",
    "    orders.extend(order2004) \n",
    "    orders.extend(order2005) \n",
    "    orders.extend(order2006) \n",
    "    orders.extend(order2007) \n",
    "    orders.extend(order2008) \n",
    "    orders.extend(order2009) \n",
    "    orders.extend(order2010) \n",
    "    orders.extend(order2011) \n",
    "    orders.extend(order2012) \n",
    "    orders.extend(order2013) \n",
    "    orders.extend(order2014) \n",
    "    orders.extend(order2015) \n",
    "    orders.extend(order2016) \n",
    "\n",
    "    import csv\n",
    "    minimal_order_employee=-1\n",
    "    with open('employee',    'r') as f: employee    = list(csv.reader(f, delimiter=',', quoting=csv.QUOTE_NONNUMERIC))\n",
    "    for j in range(len(employee)):\n",
    "        if(employee[j][2] == fullname):\n",
    "            id_employee = employee[j][1]\n",
    "            for i in range(len(orders)):\n",
    "                if(orders[i][3] == id_employee):\n",
    "                    if(minimal_order_employee==-1):\n",
    "                        minimal_order_employee=orders[i][1];\n",
    "                    elif(orders[i][1]<minimal_order_employee):\n",
    "                        minimal_order_employee=orders[i][1];\n",
    "    return minimal_order_employee"
   ]
  },
  {
   "cell_type": "code",
   "execution_count": 129,
   "metadata": {
    "collapsed": false
   },
   "outputs": [
    {
     "name": "stdout",
     "output_type": "stream",
     "text": [
      "14.0\n",
      "27.0\n",
      "20.0\n"
     ]
    }
   ],
   "source": [
    "###__test__\n",
    "print(f('Christy Petry'))\n",
    "print(f('Gisela Strong'))\n",
    "print(f('Ellis Ervin'))"
   ]
  },
  {
   "cell_type": "markdown",
   "metadata": {},
   "source": [
    "# Problema 13"
   ]
  },
  {
   "cell_type": "markdown",
   "metadata": {},
   "source": [
    "Escriba una función que reciba el `order.id` de una orden y retorne el cálculo del valor total de la orden."
   ]
  },
  {
   "cell_type": "code",
   "execution_count": 75,
   "metadata": {
    "collapsed": true
   },
   "outputs": [],
   "source": [
    "def f(orderid):\n",
    "    import csv\n",
    "    total_order=0\n",
    "    with open('orderdetail', 'r') as f: orderdetail = list(csv.reader(f, delimiter=',', quoting=csv.QUOTE_NONNUMERIC))\n",
    "    for j in range(len(orderdetail)):\n",
    "        if(orderdetail[j][1] == orderid):\n",
    "            total_order += orderdetail[j][4]*orderdetail[j][5]\n",
    "    return total_order"
   ]
  },
  {
   "cell_type": "code",
   "execution_count": 76,
   "metadata": {
    "collapsed": false
   },
   "outputs": [
    {
     "name": "stdout",
     "output_type": "stream",
     "text": [
      "2572.0\n",
      "2979.0\n",
      "9317.0\n"
     ]
    }
   ],
   "source": [
    "###__test__\n",
    "print(f(1))\n",
    "print(f(2))\n",
    "print(f(3))"
   ]
  },
  {
   "cell_type": "markdown",
   "metadata": {},
   "source": [
    "# Problema 14"
   ]
  },
  {
   "cell_type": "markdown",
   "metadata": {},
   "source": [
    "Imprima la cantidad de empleados que nacieron en cada uno de los trimestres (`Q1`, `Q2`, `Q3`, `Q4`) del año. Imprima un trimestre por reglón, separando las cantidades por un espacio en blanco. Por ejemplo: `'Q1 18'`. "
   ]
  },
  {
   "cell_type": "code",
   "execution_count": 131,
   "metadata": {
    "collapsed": false
   },
   "outputs": [
    {
     "name": "stdout",
     "output_type": "stream",
     "text": [
      "Q1 16\n",
      "Q2 9\n",
      "Q3 14\n",
      "Q4 11\n"
     ]
    }
   ],
   "source": [
    "import csv\n",
    "qty_employee_quarter1=0\n",
    "qty_employee_quarter2=0\n",
    "qty_employee_quarter3=0\n",
    "qty_employee_quarter4=0\n",
    "with open('employee',    'r') as f: employee    = list(csv.reader(f, delimiter=',', quoting=csv.QUOTE_NONNUMERIC))\n",
    "for j in range(len(employee)):\n",
    "    month=employee[j][8][9:11]\n",
    "    if(month in ['01','02','03']):\n",
    "        qty_employee_quarter1+=1\n",
    "    if(month in ['04','05','06']):\n",
    "        qty_employee_quarter2+=1\n",
    "    if(month in ['07','08','09']):\n",
    "        qty_employee_quarter3+=1\n",
    "    if(month in ['10','11','12']):\n",
    "        qty_employee_quarter4+=1\n",
    "print('Q1 '+str(qty_employee_quarter1))\n",
    "print('Q2 '+str(qty_employee_quarter2))\n",
    "print('Q3 '+str(qty_employee_quarter3))\n",
    "print('Q4 '+str(qty_employee_quarter4))\n",
    "    \n"
   ]
  },
  {
   "cell_type": "markdown",
   "metadata": {},
   "source": [
    "# Problema 15"
   ]
  },
  {
   "cell_type": "markdown",
   "metadata": {},
   "source": [
    "Escriba una función que reciba un grupo de cuatro dígitos e imprima la cantidad de veces que aparece dicho número en el segundo grupo de dígitos de todos los números telefónicos."
   ]
  },
  {
   "cell_type": "code",
   "execution_count": 104,
   "metadata": {
    "collapsed": false
   },
   "outputs": [],
   "source": [
    "def f(num):\n",
    "    import csv\n",
    "    total_appearences_customer=0\n",
    "    total_appearences_employee=0\n",
    "    total_appearences_supplier=0\n",
    "    with open('customer',    'r') as f: customer    = list(csv.reader(f, delimiter=',', quoting=csv.QUOTE_NONNUMERIC))\n",
    "    with open('employee',    'r') as f: employee    = list(csv.reader(f, delimiter=',', quoting=csv.QUOTE_NONNUMERIC))\n",
    "    with open('supplier',    'r') as f: supplier    = list(csv.reader(f, delimiter=',', quoting=csv.QUOTE_NONNUMERIC))\n",
    "    for j in range(len(customer)):\n",
    "        number=customer[j][5][5:9]\n",
    "        if(number == num):\n",
    "            total_appearences_customer+=1\n",
    "    for j in range(len(employee)):\n",
    "        number=employee[j][5][5:9]\n",
    "        if(number == num):\n",
    "            total_appearences_employee+=1\n",
    "    for j in range(len(supplier)):\n",
    "        number=supplier[j][6][5:9]\n",
    "        if(number == num):\n",
    "            total_appearences_supplier+=1\n",
    "    total_appearences = total_appearences_customer + total_appearences_employee + total_appearences_supplier    \n",
    "    #print(total_appearences_customer)\n",
    "    return total_appearences"
   ]
  },
  {
   "cell_type": "code",
   "execution_count": 105,
   "metadata": {
    "collapsed": false
   },
   "outputs": [
    {
     "name": "stdout",
     "output_type": "stream",
     "text": [
      "23\n",
      "28\n",
      "26\n"
     ]
    }
   ],
   "source": [
    "###__test__\n",
    "print(f('1289'))\n",
    "print(f('2345'))\n",
    "print(f('4876'))"
   ]
  },
  {
   "cell_type": "markdown",
   "metadata": {},
   "source": [
    "---"
   ]
  }
 ],
 "metadata": {
  "kernelspec": {
   "display_name": "Python 3",
   "language": "python",
   "name": "python3"
  },
  "language_info": {
   "codemirror_mode": {
    "name": "ipython",
    "version": 3
   },
   "file_extension": ".py",
   "mimetype": "text/x-python",
   "name": "python",
   "nbconvert_exporter": "python",
   "pygments_lexer": "ipython3",
   "version": "3.6.0"
  }
 },
 "nbformat": 4,
 "nbformat_minor": 0
}
